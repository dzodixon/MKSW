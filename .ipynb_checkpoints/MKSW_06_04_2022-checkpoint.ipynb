{
 "cells": [
  {
   "cell_type": "code",
   "execution_count": 1,
   "id": "3a92b2a6",
   "metadata": {
    "scrolled": false
   },
   "outputs": [
    {
     "name": "stdout",
     "output_type": "stream",
     "text": [
      "\n",
      "  gas:\n",
      "\n",
      "       temperature   900 K\n",
      "          pressure   1.93e+05 Pa\n",
      "           density   0.74393 kg/m^3\n",
      "  mean mol. weight   28.844 kg/kmol\n",
      "   phase of matter   gas\n",
      "\n",
      "                          1 kg             1 kmol     \n",
      "                     ---------------   ---------------\n",
      "          enthalpy        6.3921e+05        1.8437e+07  J\n",
      "   internal energy        3.7978e+05        1.0954e+07  J\n",
      "           entropy            7860.5        2.2672e+05  J/K\n",
      "    Gibbs function       -6.4352e+06       -1.8561e+08  J\n",
      " heat capacity c_p            1130.8             32615  J/K\n",
      " heat capacity c_v            842.49             24300  J/K\n",
      "\n",
      "                      mass frac. Y      mole frac. X     chem. pot. / RT\n",
      "                     ---------------   ---------------   ---------------\n",
      "                O2             0.231           0.20823             -27.2\n",
      "                N2             0.769           0.79177           -24.175\n",
      "     [ +223 minor]                 0                 0  \n",
      "\n"
     ]
    }
   ],
   "source": [
    "import cantera as ct\n",
    "import numpy as np\n",
    "import sys\n",
    "import os\n",
    "import math\n",
    "import csv\n",
    "\n",
    "gas = ct.Solution('untitled.cti') #dagaut mechanism\n",
    "\n",
    "#Setting air inlet state\n",
    "\n",
    "gas.TPY = 900, 193e+03, 'O2:0.231,N2:0.769'\n",
    "\n",
    "air_in = ct.Reservoir(gas)\n",
    "\n",
    "gas()"
   ]
  },
  {
   "cell_type": "code",
   "execution_count": 2,
   "id": "d137cef8",
   "metadata": {},
   "outputs": [],
   "source": [
    "# Creating a reservoir of H atoms to use to ignite mixture\n",
    "gas.TPX = 300, 193e+03, 'H:1.0'\n",
    "igniter = ct.Reservoir(gas)"
   ]
  },
  {
   "cell_type": "code",
   "execution_count": 3,
   "id": "049d2023",
   "metadata": {
    "scrolled": true
   },
   "outputs": [],
   "source": [
    "#Setting Fuel inlet state\n",
    "\n",
    "fuel = ct.Solution('untitled.cti') \n",
    "fuel.TPY = 600, 193e+03, 'NC10H22:0.74,PHC3H7:0.15,CYC9H18:0.11' #Kerosene surrogate\n",
    "fuel_in = ct.Reservoir(fuel)"
   ]
  },
  {
   "cell_type": "code",
   "execution_count": 4,
   "id": "32a6eed8",
   "metadata": {},
   "outputs": [],
   "source": [
    "#Creating a combustor initially filled with N2\n",
    "gas.TPX = 1100, 193e+03, 'N2:1.0'\n",
    "combustor = ct.IdealGasReactor(contents = gas, volume = 0.1)"
   ]
  },
  {
   "cell_type": "code",
   "execution_count": 5,
   "id": "07596e7e",
   "metadata": {},
   "outputs": [],
   "source": [
    "#Creating a reservoir for the exhaust\n",
    "gas.TPX = 300, ct.one_atm, 'N2:1.0'\n",
    "exhaust = ct.Reservoir(gas)"
   ]
  },
  {
   "cell_type": "code",
   "execution_count": 6,
   "id": "61020249",
   "metadata": {},
   "outputs": [],
   "source": [
    "#setting fuel and air mass flow rates\n",
    "air_mdot = 0.3\n",
    "fuel_mdot = 0.0047"
   ]
  },
  {
   "cell_type": "code",
   "execution_count": 7,
   "id": "e1d175a4",
   "metadata": {},
   "outputs": [],
   "source": [
    "#creating mass flow controlers and a igniter\n",
    "\n",
    "m1 = ct.MassFlowController(upstream = air_in, downstream = combustor, mdot = air_mdot)\n",
    "\n",
    "m2 = ct.MassFlowController(upstream = fuel_in, downstream = combustor, mdot = fuel_mdot)\n",
    "\n",
    "fwhm = 0.01\n",
    "amplitude = 0.1\n",
    "t0 = 1.0\n",
    "igniter_mdot = lambda t: amplitude * math.exp(-(t-t0)**2 * 4 * math.log(2) / fwhm**2)\n",
    "\n",
    "m3 = ct.MassFlowController(upstream = igniter, downstream = combustor, mdot = igniter_mdot)"
   ]
  },
  {
   "cell_type": "code",
   "execution_count": 8,
   "id": "b4e23e07",
   "metadata": {},
   "outputs": [],
   "source": [
    "#Putting a valve on the exhaust line to regulate pressure\n",
    "\n",
    "v = ct.Valve(upstream = combustor, downstream = exhaust, K = 1.0)\n",
    "\n",
    "sim = ct.ReactorNet([combustor])\n",
    "\n",
    "tnow = 0.0\n",
    "tfinal = 6.0\n",
    "Tprev = combustor.T\n",
    "states = ct.SolutionArray(fuel, extra=['t','tres'])\n",
    "while tnow < tfinal:\n",
    "    tnow += 0.001\n",
    "    sim.advance(tnow)\n",
    "    tres = combustor.mass/v.mass_flow_rate\n",
    "    Tnow = combustor.T\n",
    "    states.append(gas.state, t=tnow, tres=tres)\n",
    "    "
   ]
  },
  {
   "cell_type": "code",
   "execution_count": 14,
   "id": "d4a59c36",
   "metadata": {},
   "outputs": [
    {
     "data": {
      "image/png": "[encoded data removed]",
      "text/plain": [
       "<Figure size 432x288 with 1 Axes>"
      ]
     },
     "metadata": {
      "needs_background": "light"
     },
     "output_type": "display_data"
    },
    {
     "data": {
      "image/png": "[encoded data removed]",
      "text/plain": [
       "<Figure size 432x288 with 1 Axes>"
      ]
     },
     "metadata": {
      "needs_background": "light"
     },
     "output_type": "display_data"
    },
    {
     "data": {
      "image/png": "[encoded data removed]",
      "text/plain": [
       "<Figure size 432x288 with 1 Axes>"
      ]
     },
     "metadata": {
      "needs_background": "light"
     },
     "output_type": "display_data"
    }
   ],
   "source": [
    "import matplotlib.pyplot as plt\n",
    "plt.figure()\n",
    "plt.plot(states.t, states.T)\n",
    "plt.xlabel('Time [s]')\n",
    "plt.ylabel('Temperature [K]')\n",
    "plt.title('Temperature')\n",
    "plt.savefig('T.png')\n",
    "plt.show()\n",
    "\n",
    "plt.figure()\n",
    "plt.plot(states.t, states.P)\n",
    "plt.xlabel('Time [s]')\n",
    "plt.ylabel('Pressure [Pa]')\n",
    "\n",
    "plt.title('Pressure')\n",
    "plt.savefig('P.png')\n",
    "plt.show()\n"
   ]
  },
  {
   "cell_type": "code",
   "execution_count": null,
   "id": "fda9d16f",
   "metadata": {},
   "outputs": [],
   "source": [
    "print(states.T)"
   ]
  }
 ],
 "metadata": {
  "kernelspec": {
   "display_name": "Python 3 (ipykernel)",
   "language": "python",
   "name": "python3"
  },
  "language_info": {
   "codemirror_mode": {
    "name": "ipython",
    "version": 3
   },
   "file_extension": ".py",
   "mimetype": "text/x-python",
   "name": "python",
   "nbconvert_exporter": "python",
   "pygments_lexer": "ipython3",
   "version": "3.9.7"
  }
 },
 "nbformat": 4,
 "nbformat_minor": 5
}
